{
  "cells": [
    {
      "cell_type": "markdown",
      "metadata": {
        "id": "view-in-github",
        "colab_type": "text"
      },
      "source": [
        "<a href=\"https://colab.research.google.com/github/tonish/ndwi_exe/blob/main/q4.ipynb\" target=\"_parent\"><img src=\"https://colab.research.google.com/assets/colab-badge.svg\" alt=\"Open In Colab\"/></a>"
      ]
    },
    {
      "cell_type": "code",
      "execution_count": null,
      "metadata": {
        "id": "JBcYFKFqDwIZ"
      },
      "outputs": [],
      "source": [
        "#get all missing packages\n",
        "#get data\n",
        "\n",
        "!git clone https://github.com/tonish/ndwi_exe.git\n",
        "%cd ndwi_exe\n",
        "!mkdir -p  v1.1/data/flood_events/HandLabeled/S2Hand\n",
        "!mkdir -p  v1.1/data/flood_events/HandLabeled/LabelHand\n",
        "!mkdir -p  v1.1/splits\n",
        "\n",
        "!gsutil -m rsync -r gs://sen1floods11/v1.1/splits ./v1.1/splits\n",
        "!gsutil cp -r gs://sen1floods11/v1.1/data/flood_events/HandLabeled/S2Hand ./v1.1/data/flood_events/HandLabeled\n",
        "!gsutil cp -r gs://sen1floods11/v1.1/data/flood_events/HandLabeled/LabelHand ./v1.1/data/flood_events/HandLabeled\n",
        "!pip install segmentation_models_pytorch lightning torchgeo\n"
      ]
    },
    {
      "cell_type": "code",
      "execution_count": null,
      "metadata": {
        "id": "cStJbLfKDmon"
      },
      "outputs": [],
      "source": [
        "%cd ndwi_exe\n",
        "from q4_baseline import test_thresh\n",
        "from q4_xgb import q4_xgb\n",
        "from UNET.train import train\n",
        "import torch\n",
        "import numpy as np\n",
        "import matplotlib.pyplot as plt\n",
        "from UNET.dataset import load_imgs\n",
        "import skimage\n",
        "import os\n",
        "import UNET.model\n",
        "import segmentation_models_pytorch as smp\n",
        "from collections import OrderedDict\n",
        "from UNET import config\n",
        "from UNET.utils import *"
      ]
    },
    {
      "cell_type": "code",
      "execution_count": null,
      "metadata": {
        "id": "l9rSJC2sDmoo"
      },
      "outputs": [],
      "source": [
        "#test the baseline model using only ndwi and threshold = 0\n",
        "test_IOU_thresh0,baseline_predictions = test_thresh(thresh = 0)\n",
        "save_predictions('predictions',np.array(baseline_predictions),test_IOU_thresh0,'baseline')"
      ]
    },
    {
      "cell_type": "code",
      "execution_count": null,
      "metadata": {
        "id": "gYb2nkv-Dmoo"
      },
      "outputs": [],
      "source": [
        "# train a simple random forest to on train and test\n",
        "xgb_IOU, xgb_predictions = q4_xgb()\n",
        "save_predictions('predictions',np.array(xgb_predictions),xgb_IOU,'xgb')"
      ]
    },
    {
      "cell_type": "code",
      "execution_count": null,
      "metadata": {
        "id": "fLil0ID8Dmoo"
      },
      "outputs": [],
      "source": [
        "#train Unet on training split and test\n",
        "#  ***start a tfboard session to track training***\n",
        "\n",
        "'''uncomment this for training without a checkpoint'''\n",
        "# trainer, s2_model, s2DM = train()\n",
        "# trainer.fit(s2_model, s2DM)\n",
        "\n",
        "'''uncomment this if a checkpoint exist'''\n",
        "checkpoint = ''\n",
        "_trainer, _s2_model, s2DM = train()\n",
        "s2_model = load_lightning_checkpoint(checkpoint=checkpoint)\n",
        "\n",
        "s2DM.setup('test')\n",
        "IOU_UNET,UNET_predictions = check_IOU(s2DM.test_dataloader(), s2_model, device='cuda')\n",
        "save_predictions('predictions',np.array(UNET_predictions),IOU_UNET,'unet')"
      ]
    },
    {
      "cell_type": "code",
      "execution_count": null,
      "metadata": {
        "id": "GojWRaVbDmop"
      },
      "outputs": [],
      "source": [
        "# load predictions and plot example\n",
        "imgs,labels = load_imgs(config.TEST_PATH)\n",
        "baselline_predictions = np.load('predictions/baseline_predictions.npy')\n",
        "xgb_predictions = np.load('predictions/xgb_predictions.npy')\n",
        "UNET_predictions = np.load('predictions/unet_predictions.npy')\n",
        "plot_random_test(imgs,labels,baselline_predictions,xgb_predictions,UNET_predictions)"
      ]
    }
  ],
  "metadata": {
    "colab": {
      "provenance": [],
      "gpuType": "T4",
      "include_colab_link": true
    },
    "kernelspec": {
      "display_name": "Python 3",
      "name": "python3"
    },
    "language_info": {
      "codemirror_mode": {
        "name": "ipython",
        "version": 3
      },
      "file_extension": ".py",
      "mimetype": "text/x-python",
      "name": "python",
      "nbconvert_exporter": "python",
      "pygments_lexer": "ipython3",
      "version": "3.10.12"
    },
    "accelerator": "GPU"
  },
  "nbformat": 4,
  "nbformat_minor": 0
}